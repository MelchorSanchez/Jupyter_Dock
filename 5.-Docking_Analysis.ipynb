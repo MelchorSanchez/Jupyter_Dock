{
 "cells": [
  {
   "cell_type": "code",
   "execution_count": null,
   "id": "2c770801-b97f-47dd-92e1-3485ecff18ae",
   "metadata": {},
   "outputs": [],
   "source": []
  }
 ],
 "metadata": {
  "kernelspec": {
   "display_name": "AnalysisMD",
   "language": "python",
   "name": "analysismd"
  },
  "language_info": {
   "codemirror_mode": {
    "name": "ipython",
    "version": 3
   },
   "file_extension": ".py",
   "mimetype": "text/x-python",
   "name": "python",
   "nbconvert_exporter": "python",
   "pygments_lexer": "ipython3",
   "version": "3.9.7"
  }
 },
 "nbformat": 4,
 "nbformat_minor": 5
}
